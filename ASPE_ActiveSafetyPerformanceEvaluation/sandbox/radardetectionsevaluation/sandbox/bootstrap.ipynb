{
 "cells": [
  {
   "cell_type": "code",
   "execution_count": 16,
   "metadata": {},
   "outputs": [
    {
     "name": "stdout",
     "output_type": "stream",
     "text": [
      "100.06526157375612    (99.44696419347527, 100.68373803542083)\n",
      "10.050515563781145    (9.61566109112253, 10.508744508478772)\n",
      "100.06526157375612    (100.06267878268993, 100.06267878268993)\n",
      "100.06526157375612    (99.43806945414104, 100.68719826624229)\n"
     ]
    }
   ],
   "source": [
    "import numpy as np\n",
    "import bootstrapped.bootstrap as bs\n",
    "import bootstrapped.stats_functions as bs_stats\n",
    "\n",
    "mean = 100\n",
    "stdev = 10\n",
    "\n",
    "population = np.random.normal(loc=mean, scale=stdev, size=50000)\n",
    "\n",
    "\n",
    "def mean_wrapper(x):\n",
    "    return [np.mean(x)]\n",
    "\n",
    "# take 1k 'samples' from the larger population\n",
    "samples = population[:1000]\n",
    "\n",
    "print(bs.bootstrap(samples, stat_func=bs_stats.mean))\n",
    "\n",
    "print(bs.bootstrap(samples, stat_func=bs_stats.std))\n",
    "\n",
    "print(bs.bootstrap(samples, stat_func=mean_wrapper)) # wrapper needed but this wraper is wrong\n",
    "\n",
    "print(bs.bootstrap(samples, stat_func=bs_stats.mean, alpha=0.05, num_iterations=100000, iteration_batch_size=100))\n",
    "\n"
   ]
  },
  {
   "cell_type": "code",
   "execution_count": 4,
   "metadata": {},
   "outputs": [
    {
     "data": {
      "text/plain": [
       "99.84744762249754    (99.2367223931434, 100.46755267676761)"
      ]
     },
     "execution_count": 4,
     "metadata": {},
     "output_type": "execute_result"
    }
   ],
   "source": [
    "a"
   ]
  },
  {
   "cell_type": "code",
   "execution_count": null,
   "metadata": {},
   "outputs": [],
   "source": []
  }
 ],
 "metadata": {
  "kernelspec": {
   "display_name": "Python 3",
   "language": "python",
   "name": "python3"
  },
  "language_info": {
   "codemirror_mode": {
    "name": "ipython",
    "version": 3
   },
   "file_extension": ".py",
   "mimetype": "text/x-python",
   "name": "python",
   "nbconvert_exporter": "python",
   "pygments_lexer": "ipython3",
   "version": "3.7.4"
  }
 },
 "nbformat": 4,
 "nbformat_minor": 4
}
