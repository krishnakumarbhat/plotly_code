{
 "cells": [
  {
   "cell_type": "markdown",
   "metadata": {},
   "source": [
    "# np.matmul (\\__matmul\\__, @)\n",
    "\n",
    "https://docs.scipy.org/doc/numpy/reference/generated/numpy.matmul.html\n",
    "\n",
    "The behavior depends on the arguments in the following way.\n",
    "\n",
    "* If both arguments are 2-D they are multiplied like conventional matrices.\n",
    "* **If either argument is N-D, N > 2, it is treated as a stack of matrices residing in the last two indexes and broadcast accordingly.**\n",
    "* If the first argument is 1-D, it is promoted to a matrix by prepending a 1 to its dimensions. After matrix multiplication the prepended 1 is removed.\n",
    "* If the second argument is 1-D, it is promoted to a matrix by appending a 1 to its dimensions. After matrix multiplication the appended 1 is removed."
   ]
  },
  {
   "cell_type": "code",
   "execution_count": 1,
   "metadata": {},
   "outputs": [
    {
     "data": {
      "text/plain": [
       "(2, 2)"
      ]
     },
     "execution_count": 1,
     "metadata": {},
     "output_type": "execute_result"
    }
   ],
   "source": [
    "import numpy as np\n",
    "\n",
    "A1 = np.random.rand(2, 2)\n",
    "A2 = np.random.rand(2, 2)\n",
    "A3 = np.random.rand(2, 2)\n",
    "\n",
    "B1 = np.random.rand(2, 2)\n",
    "B2 = np.random.rand(2, 2)\n",
    "B3 = np.random.rand(2, 2)\n",
    "\n",
    "A1.shape"
   ]
  },
  {
   "cell_type": "code",
   "execution_count": 2,
   "metadata": {},
   "outputs": [
    {
     "data": {
      "text/plain": [
       "(3, 2, 2)"
      ]
     },
     "execution_count": 2,
     "metadata": {},
     "output_type": "execute_result"
    }
   ],
   "source": [
    "A = np.array([A1, A2, A3])  # or: np.stack\n",
    "B = np.array([B1, B2, B3])\n",
    "\n",
    "A.shape"
   ]
  },
  {
   "cell_type": "code",
   "execution_count": 3,
   "metadata": {},
   "outputs": [
    {
     "data": {
      "text/plain": [
       "array([[0.74582686, 0.79862583],\n",
       "       [0.19346337, 0.23241742]])"
      ]
     },
     "execution_count": 3,
     "metadata": {},
     "output_type": "execute_result"
    }
   ],
   "source": [
    "# multiply one-by-one\n",
    "C1 = A1 @ B1\n",
    "C2 = A2 @ B2\n",
    "C3 = A3 @ B3\n",
    "\n",
    "C1"
   ]
  },
  {
   "cell_type": "code",
   "execution_count": 4,
   "metadata": {},
   "outputs": [
    {
     "data": {
      "text/plain": [
       "array([[[0.74582686, 0.79862583],\n",
       "        [0.19346337, 0.23241742]],\n",
       "\n",
       "       [[0.85269621, 0.43787267],\n",
       "        [0.06713207, 0.12352583]],\n",
       "\n",
       "       [[0.2885247 , 0.27686453],\n",
       "        [0.60433743, 0.21696731]]])"
      ]
     },
     "execution_count": 4,
     "metadata": {},
     "output_type": "execute_result"
    }
   ],
   "source": [
    "C = np.array([C1, C2, C3])\n",
    "C"
   ]
  },
  {
   "cell_type": "code",
   "execution_count": 5,
   "metadata": {},
   "outputs": [
    {
     "data": {
      "text/plain": [
       "array([[[0.74582686, 0.79862583],\n",
       "        [0.19346337, 0.23241742]],\n",
       "\n",
       "       [[0.85269621, 0.43787267],\n",
       "        [0.06713207, 0.12352583]],\n",
       "\n",
       "       [[0.2885247 , 0.27686453],\n",
       "        [0.60433743, 0.21696731]]])"
      ]
     },
     "execution_count": 5,
     "metadata": {},
     "output_type": "execute_result"
    }
   ],
   "source": [
    "# multiply the whole stack using np.matmul\n",
    "D = A @ B  # or: np.matmul(A, B)\n",
    "D"
   ]
  },
  {
   "cell_type": "code",
   "execution_count": 6,
   "metadata": {},
   "outputs": [
    {
     "data": {
      "text/plain": [
       "True"
      ]
     },
     "execution_count": 6,
     "metadata": {},
     "output_type": "execute_result"
    }
   ],
   "source": [
    "np.array_equal(C, D)"
   ]
  },
  {
   "cell_type": "code",
   "execution_count": 7,
   "metadata": {},
   "outputs": [
    {
     "data": {
      "text/plain": [
       "array([[[0., 0.],\n",
       "        [0., 0.]],\n",
       "\n",
       "       [[0., 0.],\n",
       "        [0., 0.]],\n",
       "\n",
       "       [[0., 0.],\n",
       "        [0., 0.]]])"
      ]
     },
     "execution_count": 7,
     "metadata": {},
     "output_type": "execute_result"
    }
   ],
   "source": [
    "C - D"
   ]
  },
  {
   "cell_type": "markdown",
   "metadata": {},
   "source": [
    "## $ \\Sigma^f = J\\,\\Sigma\\,J^\\mathbf{T} $"
   ]
  },
  {
   "cell_type": "code",
   "execution_count": 8,
   "metadata": {},
   "outputs": [
    {
     "data": {
      "text/plain": [
       "array([[0.05830188, 0.41095085],\n",
       "       [0.26963458, 0.32457398]])"
      ]
     },
     "execution_count": 8,
     "metadata": {},
     "output_type": "execute_result"
    }
   ],
   "source": [
    "J = np.random.rand(100, 2, 2)\n",
    "J[0]"
   ]
  },
  {
   "cell_type": "code",
   "execution_count": 9,
   "metadata": {},
   "outputs": [
    {
     "data": {
      "text/plain": [
       "array([[0.09609754, 0.02023986],\n",
       "       [0.55520642, 0.17045759]])"
      ]
     },
     "execution_count": 9,
     "metadata": {},
     "output_type": "execute_result"
    }
   ],
   "source": [
    "Sigma = np.random.rand(100, 2, 2)\n",
    "Sigma[42]"
   ]
  },
  {
   "cell_type": "code",
   "execution_count": 10,
   "metadata": {},
   "outputs": [
    {
     "data": {
      "text/plain": [
       "(2, 2, 100)"
      ]
     },
     "execution_count": 10,
     "metadata": {},
     "output_type": "execute_result"
    }
   ],
   "source": [
    "J.T.shape  # .T transposes the first axis, not the \"second ones\""
   ]
  },
  {
   "cell_type": "code",
   "execution_count": 11,
   "metadata": {},
   "outputs": [
    {
     "data": {
      "text/plain": [
       "array([[[0.05830188, 0.26963458],\n",
       "        [0.41095085, 0.32457398]],\n",
       "\n",
       "       [[0.55513097, 0.04873309],\n",
       "        [0.42873459, 0.34469663]],\n",
       "\n",
       "       [[0.52070871, 0.10117999],\n",
       "        [0.59854587, 0.85667173]],\n",
       "\n",
       "       [[0.36143309, 0.18185472],\n",
       "        [0.76001491, 0.11456041]],\n",
       "\n",
       "       [[0.32926079, 0.56943181],\n",
       "        [0.64480997, 0.17262404]],\n",
       "\n",
       "       [[0.01434959, 0.87611692],\n",
       "        [0.72015236, 0.2240025 ]],\n",
       "\n",
       "       [[0.18956353, 0.56467238],\n",
       "        [0.21767799, 0.98324272]],\n",
       "\n",
       "       [[0.6447021 , 0.81384778],\n",
       "        [0.27004912, 0.31684358]],\n",
       "\n",
       "       [[0.39548703, 0.56390297],\n",
       "        [0.57427952, 0.37403219]],\n",
       "\n",
       "       [[0.72084228, 0.15656151],\n",
       "        [0.04650913, 0.04638091]],\n",
       "\n",
       "       [[0.31972654, 0.32557627],\n",
       "        [0.7077927 , 0.04540916]],\n",
       "\n",
       "       [[0.188007  , 0.99469782],\n",
       "        [0.93696269, 0.29295202]],\n",
       "\n",
       "       [[0.016021  , 0.56848346],\n",
       "        [0.60472948, 0.60643295]],\n",
       "\n",
       "       [[0.70135849, 0.98617818],\n",
       "        [0.53511614, 0.43346536]],\n",
       "\n",
       "       [[0.01779983, 0.7161651 ],\n",
       "        [0.79569741, 0.54534319]],\n",
       "\n",
       "       [[0.04501461, 0.25758291],\n",
       "        [0.77527174, 0.76299062]],\n",
       "\n",
       "       [[0.2866685 , 0.49178882],\n",
       "        [0.29720726, 0.22121295]],\n",
       "\n",
       "       [[0.35447256, 0.40052485],\n",
       "        [0.70893085, 0.97381368]],\n",
       "\n",
       "       [[0.37207126, 0.59568275],\n",
       "        [0.2630034 , 0.7266336 ]],\n",
       "\n",
       "       [[0.46578151, 0.27863056],\n",
       "        [0.50990374, 0.74661301]],\n",
       "\n",
       "       [[0.58103929, 0.43327538],\n",
       "        [0.22440218, 0.81856761]],\n",
       "\n",
       "       [[0.53659721, 0.68194181],\n",
       "        [0.71748874, 0.16824542]],\n",
       "\n",
       "       [[0.18967527, 0.33017578],\n",
       "        [0.84769963, 0.35876356]],\n",
       "\n",
       "       [[0.80518183, 0.65282467],\n",
       "        [0.49545486, 0.93396906]],\n",
       "\n",
       "       [[0.67697505, 0.37119821],\n",
       "        [0.97559907, 0.05317913]],\n",
       "\n",
       "       [[0.36840689, 0.1809129 ],\n",
       "        [0.62532097, 0.8892556 ]],\n",
       "\n",
       "       [[0.92275148, 0.104506  ],\n",
       "        [0.41137411, 0.45190623]],\n",
       "\n",
       "       [[0.01317205, 0.31648064],\n",
       "        [0.77637829, 0.20566052]],\n",
       "\n",
       "       [[0.55916372, 0.99889897],\n",
       "        [0.79416991, 0.84238506]],\n",
       "\n",
       "       [[0.60930004, 0.64825491],\n",
       "        [0.43419164, 0.64203616]],\n",
       "\n",
       "       [[0.31592137, 0.05653135],\n",
       "        [0.05295709, 0.28658036]],\n",
       "\n",
       "       [[0.50105115, 0.52484578],\n",
       "        [0.32209364, 0.24841114]],\n",
       "\n",
       "       [[0.23973438, 0.9793133 ],\n",
       "        [0.08547578, 0.27736049]],\n",
       "\n",
       "       [[0.26704875, 0.4581947 ],\n",
       "        [0.71717949, 0.32059759]],\n",
       "\n",
       "       [[0.5820259 , 0.92441273],\n",
       "        [0.88363535, 0.36661948]],\n",
       "\n",
       "       [[0.14003882, 0.10378696],\n",
       "        [0.53792659, 0.85242205]],\n",
       "\n",
       "       [[0.00894631, 0.38714037],\n",
       "        [0.28216644, 0.74825344]],\n",
       "\n",
       "       [[0.86016495, 0.49817943],\n",
       "        [0.54945208, 0.71716076]],\n",
       "\n",
       "       [[0.61870413, 0.34357806],\n",
       "        [0.26372384, 0.10772892]],\n",
       "\n",
       "       [[0.48686328, 0.03673581],\n",
       "        [0.39257754, 0.7584711 ]],\n",
       "\n",
       "       [[0.01272104, 0.59342657],\n",
       "        [0.71682232, 0.44205752]],\n",
       "\n",
       "       [[0.24248407, 0.84246132],\n",
       "        [0.72283736, 0.52381158]],\n",
       "\n",
       "       [[0.51734519, 0.95025862],\n",
       "        [0.94806212, 0.68110858]],\n",
       "\n",
       "       [[0.32223692, 0.21773091],\n",
       "        [0.53274955, 0.42254121]],\n",
       "\n",
       "       [[0.31895912, 0.0565682 ],\n",
       "        [0.00727257, 0.09775421]],\n",
       "\n",
       "       [[0.65089554, 0.48901016],\n",
       "        [0.6429124 , 0.14795817]],\n",
       "\n",
       "       [[0.08782154, 0.51235355],\n",
       "        [0.09878235, 0.51545298]],\n",
       "\n",
       "       [[0.70610452, 0.58871249],\n",
       "        [0.49632245, 0.58952259]],\n",
       "\n",
       "       [[0.09756112, 0.42639892],\n",
       "        [0.16051789, 0.05774519]],\n",
       "\n",
       "       [[0.07950282, 0.10714743],\n",
       "        [0.77776417, 0.64700976]],\n",
       "\n",
       "       [[0.37254352, 0.42084086],\n",
       "        [0.56938937, 0.4872098 ]],\n",
       "\n",
       "       [[0.35403182, 0.45324403],\n",
       "        [0.76599703, 0.11512149]],\n",
       "\n",
       "       [[0.05424715, 0.69593294],\n",
       "        [0.1274603 , 0.34415611]],\n",
       "\n",
       "       [[0.64704784, 0.17339188],\n",
       "        [0.54524771, 0.66649109]],\n",
       "\n",
       "       [[0.60078727, 0.76104997],\n",
       "        [0.01523807, 0.09977945]],\n",
       "\n",
       "       [[0.66970574, 0.84528948],\n",
       "        [0.81251952, 0.05916163]],\n",
       "\n",
       "       [[0.42256217, 0.6466116 ],\n",
       "        [0.98957303, 0.96205348]],\n",
       "\n",
       "       [[0.74488707, 0.51095094],\n",
       "        [0.60039866, 0.18477031]],\n",
       "\n",
       "       [[0.09109997, 0.04975253],\n",
       "        [0.24487545, 0.19666339]],\n",
       "\n",
       "       [[0.35966894, 0.33532688],\n",
       "        [0.95606759, 0.77635634]],\n",
       "\n",
       "       [[0.76482423, 0.04018682],\n",
       "        [0.65217056, 0.64646915]],\n",
       "\n",
       "       [[0.96518482, 0.81799499],\n",
       "        [0.951401  , 0.32805954]],\n",
       "\n",
       "       [[0.88538371, 0.30739042],\n",
       "        [0.55568663, 0.45894825]],\n",
       "\n",
       "       [[0.52763456, 0.88890723],\n",
       "        [0.21949957, 0.75030927]],\n",
       "\n",
       "       [[0.77197745, 0.70556982],\n",
       "        [0.54526394, 0.14496227]],\n",
       "\n",
       "       [[0.32239789, 0.27811763],\n",
       "        [0.11111254, 0.96751141]],\n",
       "\n",
       "       [[0.47922773, 0.02699142],\n",
       "        [0.62442611, 0.30692081]],\n",
       "\n",
       "       [[0.43963271, 0.0381584 ],\n",
       "        [0.90935384, 0.69722421]],\n",
       "\n",
       "       [[0.5377112 , 0.35476768],\n",
       "        [0.31813438, 0.43404156]],\n",
       "\n",
       "       [[0.61684097, 0.09703512],\n",
       "        [0.96637558, 0.4845189 ]],\n",
       "\n",
       "       [[0.84331865, 0.62609732],\n",
       "        [0.01048101, 0.95824568]],\n",
       "\n",
       "       [[0.60920932, 0.34198009],\n",
       "        [0.19676853, 0.23492842]],\n",
       "\n",
       "       [[0.66217131, 0.5445234 ],\n",
       "        [0.87155876, 0.86788526]],\n",
       "\n",
       "       [[0.69333495, 0.23500449],\n",
       "        [0.70558473, 0.09319557]],\n",
       "\n",
       "       [[0.19579284, 0.94874649],\n",
       "        [0.10794203, 0.83018758]],\n",
       "\n",
       "       [[0.56769533, 0.85814914],\n",
       "        [0.06925866, 0.30542747]],\n",
       "\n",
       "       [[0.58012003, 0.64177342],\n",
       "        [0.62875929, 0.83814616]],\n",
       "\n",
       "       [[0.01211422, 0.70184673],\n",
       "        [0.67163446, 0.97487148]],\n",
       "\n",
       "       [[0.67335409, 0.92352744],\n",
       "        [0.41581424, 0.43957885]],\n",
       "\n",
       "       [[0.2564216 , 0.83074859],\n",
       "        [0.63600689, 0.72927903]],\n",
       "\n",
       "       [[0.82909454, 0.04851421],\n",
       "        [0.4360842 , 0.19495258]],\n",
       "\n",
       "       [[0.20853125, 0.70688528],\n",
       "        [0.89932654, 0.17456785]],\n",
       "\n",
       "       [[0.35725911, 0.01441019],\n",
       "        [0.19123243, 0.87744827]],\n",
       "\n",
       "       [[0.45532432, 0.48453942],\n",
       "        [0.62586412, 0.21536321]],\n",
       "\n",
       "       [[0.79700846, 0.98565245],\n",
       "        [0.40589473, 0.06698366]],\n",
       "\n",
       "       [[0.86980859, 0.84201221],\n",
       "        [0.6823879 , 0.10847266]],\n",
       "\n",
       "       [[0.72017859, 0.82432847],\n",
       "        [0.31906057, 0.11322096]],\n",
       "\n",
       "       [[0.10088257, 0.58232642],\n",
       "        [0.96176616, 0.8087616 ]],\n",
       "\n",
       "       [[0.93100297, 0.79524291],\n",
       "        [0.84230179, 0.76666938]],\n",
       "\n",
       "       [[0.87539586, 0.60244233],\n",
       "        [0.28866631, 0.91550288]],\n",
       "\n",
       "       [[0.00208461, 0.01311934],\n",
       "        [0.40573099, 0.52228603]],\n",
       "\n",
       "       [[0.60363386, 0.08077879],\n",
       "        [0.03619999, 0.36556382]],\n",
       "\n",
       "       [[0.19141341, 0.98605432],\n",
       "        [0.35472335, 0.40220477]],\n",
       "\n",
       "       [[0.13517522, 0.77825994],\n",
       "        [0.69579303, 0.71727523]],\n",
       "\n",
       "       [[0.36505045, 0.85491619],\n",
       "        [0.66185957, 0.06967953]],\n",
       "\n",
       "       [[0.10357507, 0.01286636],\n",
       "        [0.88717978, 0.1852046 ]],\n",
       "\n",
       "       [[0.43711184, 0.09632521],\n",
       "        [0.67986706, 0.40176163]],\n",
       "\n",
       "       [[0.65083723, 0.73108724],\n",
       "        [0.52169693, 0.20954896]],\n",
       "\n",
       "       [[0.03809669, 0.33346756],\n",
       "        [0.01197983, 0.39561115]],\n",
       "\n",
       "       [[0.47140345, 0.79491819],\n",
       "        [0.81320521, 0.68009196]]])"
      ]
     },
     "execution_count": 11,
     "metadata": {},
     "output_type": "execute_result"
    }
   ],
   "source": [
    "J_T = J.transpose(0, 2, 1)  # pass new order of axes\n",
    "J_T"
   ]
  },
  {
   "cell_type": "code",
   "execution_count": 12,
   "metadata": {},
   "outputs": [
    {
     "data": {
      "text/plain": [
       "True"
      ]
     },
     "execution_count": 12,
     "metadata": {},
     "output_type": "execute_result"
    }
   ],
   "source": [
    "J_T.shape == (100, 2, 2)"
   ]
  },
  {
   "cell_type": "code",
   "execution_count": 13,
   "metadata": {},
   "outputs": [
    {
     "data": {
      "text/plain": [
       "True"
      ]
     },
     "execution_count": 13,
     "metadata": {},
     "output_type": "execute_result"
    }
   ],
   "source": [
    "np.array_equal(\n",
    "    J[42].T,\n",
    "    J_T[42]\n",
    ")"
   ]
  },
  {
   "cell_type": "code",
   "execution_count": 14,
   "metadata": {},
   "outputs": [
    {
     "data": {
      "text/plain": [
       "(100, 2, 2)"
      ]
     },
     "execution_count": 14,
     "metadata": {},
     "output_type": "execute_result"
    }
   ],
   "source": [
    "Sigma_f = J @ Sigma @ J_T\n",
    "\n",
    "Sigma_f.shape"
   ]
  },
  {
   "cell_type": "code",
   "execution_count": 15,
   "metadata": {},
   "outputs": [
    {
     "data": {
      "text/plain": [
       "True"
      ]
     },
     "execution_count": 15,
     "metadata": {},
     "output_type": "execute_result"
    }
   ],
   "source": [
    "np.array_equal(\n",
    "    Sigma_f[42],\n",
    "    J[42] @ Sigma[42] @ J[42].T\n",
    ")"
   ]
  },
  {
   "cell_type": "markdown",
   "metadata": {},
   "source": [
    "## Speed and heading to velocity_otg uncertainty propagation"
   ]
  },
  {
   "cell_type": "markdown",
   "metadata": {},
   "source": [
    "$\n",
    "\\begin{aligned}\n",
    "    V_\\text{x} &= S \\cos{H} \\\\[0.1cm]\n",
    "    V_\\text{y} &= S \\sin{H}\n",
    "\\end{aligned}\n",
    "$"
   ]
  },
  {
   "cell_type": "markdown",
   "metadata": {},
   "source": [
    "$\n",
    "\\mathrm{J}_f = \\begin{bmatrix}\n",
    "        \\dfrac{\\partial V_\\text{x}}{\\partial S} & \\dfrac{\\partial V_\\text{x}}{\\partial H} \\\\[0.4cm]\n",
    "        \\dfrac{\\partial V_\\text{y}}{\\partial S} & \\dfrac{\\partial V_\\text{y}}{\\partial H}\n",
    "    \\end{bmatrix} = \\begin{bmatrix}\n",
    "        \\cos{H} & -S\\sin{H}  \\\\[0.2cm]\n",
    "        \\sin{H} & S\\cos{H}\n",
    "    \\end{bmatrix}\n",
    "$"
   ]
  },
  {
   "cell_type": "markdown",
   "metadata": {},
   "source": [
    "### Generate test input signals"
   ]
  },
  {
   "cell_type": "code",
   "execution_count": 16,
   "metadata": {},
   "outputs": [
    {
     "data": {
      "text/plain": [
       "((123456,),\n",
       " array([0.61692749, 0.99912519, 0.7916012 , ..., 0.60839912, 0.51307943,\n",
       "        0.49421849]))"
      ]
     },
     "execution_count": 16,
     "metadata": {},
     "output_type": "execute_result"
    }
   ],
   "source": [
    "N = 123456  # number of rows in signals dataframe\n",
    "\n",
    "speed = np.random.rand(N)  # from motion_model_state_suppl[2]\n",
    "heading = np.random.rand(N)  # from motion_model_state_suppl[4]\n",
    "speed_variance = np.random.rand(N)  # from motion_model_variances_suppl[2]\n",
    "heading_variance = np.random.rand(N)  # from motion_model_variances_suppl[4]\n",
    "speed_heading_covariance = np.random.rand(N)  # from motion_model_covariances_suppl[1]\n",
    "\n",
    "speed.shape, speed"
   ]
  },
  {
   "cell_type": "markdown",
   "metadata": {},
   "source": [
    "### Calculate Jacobi matrix values"
   ]
  },
  {
   "cell_type": "code",
   "execution_count": 17,
   "metadata": {},
   "outputs": [
    {
     "data": {
      "text/plain": [
       "(123456,)"
      ]
     },
     "execution_count": 17,
     "metadata": {},
     "output_type": "execute_result"
    }
   ],
   "source": [
    "j11 = np.cos(heading)\n",
    "j12 = -speed * np.sin(heading)  # may be optimized: j12 = -speed * j21\n",
    "j21 = np.sin(heading)\n",
    "j22 = speed * np.cos(heading)  # may be optimized: j22 = speed * j11\n",
    "\n",
    "j11.shape"
   ]
  },
  {
   "cell_type": "markdown",
   "metadata": {},
   "source": [
    "### Method 1. Using matrix multiplication for each row"
   ]
  },
  {
   "cell_type": "code",
   "execution_count": 18,
   "metadata": {},
   "outputs": [
    {
     "name": "stdout",
     "output_type": "stream",
     "text": [
      "Wall time: 3.5 s\n"
     ]
    }
   ],
   "source": [
    "%%time\n",
    "# this may take a long time... (about 2-3 seconds)\n",
    "\n",
    "for i in range(N):\n",
    "    J_i = np.array([\n",
    "        [ np.cos(heading[i]), -speed[i] * np.sin(heading[i]) ],\n",
    "        [ np.sin(heading[i]),  speed[i] * np.cos(heading[i]) ],\n",
    "    ])\n",
    "    Sigma_i = np.array([\n",
    "        [ speed_variance[i], speed_heading_covariance[i] ],\n",
    "        [ speed_heading_covariance[i], heading_variance[i] ],\n",
    "    ])\n",
    "    \n",
    "    J_i @ Sigma_i @ J_i.T"
   ]
  },
  {
   "cell_type": "markdown",
   "metadata": {},
   "source": [
    "![](https://encrypted-tbn0.gstatic.com/images?q=tbn%3AANd9GcSVgUbxPl3uTPRGXJkKqvyHzImBnPmmqU9KC87XDREztFuPetu1)"
   ]
  },
  {
   "cell_type": "markdown",
   "metadata": {},
   "source": [
    "Extracting values from output matrix and assigning them to respsective dataframe cells may  eve double the calculation time!"
   ]
  },
  {
   "cell_type": "markdown",
   "metadata": {},
   "source": [
    "### Method 2. Using matmul on stacked arrays"
   ]
  },
  {
   "cell_type": "code",
   "execution_count": 19,
   "metadata": {},
   "outputs": [
    {
     "data": {
      "text/plain": [
       "(2, 2, 123456)"
      ]
     },
     "execution_count": 19,
     "metadata": {},
     "output_type": "execute_result"
    }
   ],
   "source": [
    "J = np.array([[j11, j12], [j21, j22]])\n",
    "J.shape  # :("
   ]
  },
  {
   "cell_type": "code",
   "execution_count": 20,
   "metadata": {},
   "outputs": [
    {
     "data": {
      "text/plain": [
       "(123456, 2, 2)"
      ]
     },
     "execution_count": 20,
     "metadata": {},
     "output_type": "execute_result"
    }
   ],
   "source": [
    "J = np.array([[j11, j12], [j21, j22]]).transpose(2, 0, 1)  # all magic happens here\n",
    "J.shape"
   ]
  },
  {
   "cell_type": "code",
   "execution_count": 21,
   "metadata": {},
   "outputs": [
    {
     "data": {
      "text/plain": [
       "array([[ 0.95400471, -0.12796216],\n",
       "       [ 0.29979162,  0.4072045 ]])"
      ]
     },
     "execution_count": 21,
     "metadata": {},
     "output_type": "execute_result"
    }
   ],
   "source": [
    "J[42]"
   ]
  },
  {
   "cell_type": "code",
   "execution_count": 22,
   "metadata": {},
   "outputs": [
    {
     "data": {
      "text/plain": [
       "array([[ 0.95400471, -0.12796216],\n",
       "       [ 0.29979162,  0.4072045 ]])"
      ]
     },
     "execution_count": 22,
     "metadata": {},
     "output_type": "execute_result"
    }
   ],
   "source": [
    "np.array([\n",
    "    [j11[42], j12[42]],\n",
    "    [j21[42], j22[42]]\n",
    "])\n",
    "# is this same as J[42]?"
   ]
  },
  {
   "cell_type": "code",
   "execution_count": 23,
   "metadata": {},
   "outputs": [
    {
     "data": {
      "text/plain": [
       "True"
      ]
     },
     "execution_count": 23,
     "metadata": {},
     "output_type": "execute_result"
    }
   ],
   "source": [
    "np.array_equal(\n",
    "    J[42],\n",
    "    np.array([\n",
    "        [j11[42], j12[42]],\n",
    "        [j21[42], j22[42]]\n",
    "    ])\n",
    ")"
   ]
  },
  {
   "cell_type": "code",
   "execution_count": 24,
   "metadata": {},
   "outputs": [
    {
     "data": {
      "text/plain": [
       "(123456, 2, 2)"
      ]
     },
     "execution_count": 24,
     "metadata": {},
     "output_type": "execute_result"
    }
   ],
   "source": [
    "Sigma = np.array([\n",
    "    [speed_variance, speed_heading_covariance],\n",
    "    [speed_heading_covariance, heading_variance],\n",
    "]).transpose(2, 0, 1)\n",
    "\n",
    "Sigma.shape"
   ]
  },
  {
   "cell_type": "code",
   "execution_count": 25,
   "metadata": {},
   "outputs": [
    {
     "data": {
      "text/plain": [
       "(123456, 2, 2)"
      ]
     },
     "execution_count": 25,
     "metadata": {},
     "output_type": "execute_result"
    }
   ],
   "source": [
    "J_T = J.transpose(0, 2, 1)  # axis 0 stays the same, swap axes 1 and 2\n",
    "J.shape"
   ]
  },
  {
   "cell_type": "code",
   "execution_count": 26,
   "metadata": {},
   "outputs": [
    {
     "data": {
      "text/plain": [
       "True"
      ]
     },
     "execution_count": 26,
     "metadata": {},
     "output_type": "execute_result"
    }
   ],
   "source": [
    "np.array_equal(\n",
    "    J_T[42],\n",
    "    J[42].T\n",
    ")"
   ]
  },
  {
   "cell_type": "code",
   "execution_count": 27,
   "metadata": {},
   "outputs": [
    {
     "name": "stdout",
     "output_type": "stream",
     "text": [
      "Wall time: 13 ms\n"
     ]
    },
    {
     "data": {
      "text/plain": [
       "(123456, 2, 2)"
      ]
     },
     "execution_count": 27,
     "metadata": {},
     "output_type": "execute_result"
    }
   ],
   "source": [
    "%%time\n",
    "\n",
    "Sigma_f = J @ Sigma @ J_T\n",
    "\n",
    "Sigma_f.shape"
   ]
  },
  {
   "cell_type": "markdown",
   "metadata": {},
   "source": [
    "![](https://encrypted-tbn0.gstatic.com/images?q=tbn:ANd9GcT-N7-PgatzxayzpHxJOrxtsUic22KQSOqKT0ZQgJ4LcyCeAV0&s)"
   ]
  },
  {
   "cell_type": "markdown",
   "metadata": {},
   "source": [
    "### Comparision of results"
   ]
  },
  {
   "cell_type": "code",
   "execution_count": 28,
   "metadata": {},
   "outputs": [
    {
     "data": {
      "text/plain": [
       "array([[0.01020399, 0.10011967],\n",
       "       [0.10011967, 0.12065377]])"
      ]
     },
     "execution_count": 28,
     "metadata": {},
     "output_type": "execute_result"
    }
   ],
   "source": [
    "J_42 = np.array([\n",
    "    [ np.cos(heading[42]), -speed[42] * np.sin(heading[42]) ],\n",
    "    [ np.sin(heading[42]),  speed[42] * np.cos(heading[42]) ],\n",
    "])\n",
    "Sigma_42 = np.array([\n",
    "    [ speed_variance[42], speed_heading_covariance[42] ],\n",
    "    [ speed_heading_covariance[42], heading_variance[42] ],\n",
    "])\n",
    "\n",
    "Sigma_f_42 = J_42 @ Sigma_42 @ J_42.T\n",
    "Sigma_f_42"
   ]
  },
  {
   "cell_type": "code",
   "execution_count": 29,
   "metadata": {},
   "outputs": [
    {
     "data": {
      "text/plain": [
       "array([[0.01020399, 0.10011967],\n",
       "       [0.10011967, 0.12065377]])"
      ]
     },
     "execution_count": 29,
     "metadata": {},
     "output_type": "execute_result"
    }
   ],
   "source": [
    "Sigma_f[42]"
   ]
  },
  {
   "cell_type": "code",
   "execution_count": 30,
   "metadata": {},
   "outputs": [
    {
     "data": {
      "text/plain": [
       "False"
      ]
     },
     "execution_count": 30,
     "metadata": {},
     "output_type": "execute_result"
    }
   ],
   "source": [
    "np.array_equal(\n",
    "    Sigma_f_42,\n",
    "    Sigma_f[42]\n",
    ")"
   ]
  },
  {
   "cell_type": "code",
   "execution_count": 31,
   "metadata": {},
   "outputs": [
    {
     "data": {
      "text/plain": [
       "array([[-1.73472348e-18,  0.00000000e+00],\n",
       "       [ 0.00000000e+00,  0.00000000e+00]])"
      ]
     },
     "execution_count": 31,
     "metadata": {},
     "output_type": "execute_result"
    }
   ],
   "source": [
    "Sigma_f_42 - Sigma_f[42]"
   ]
  },
  {
   "cell_type": "code",
   "execution_count": 32,
   "metadata": {},
   "outputs": [
    {
     "data": {
      "text/plain": [
       "True"
      ]
     },
     "execution_count": 32,
     "metadata": {},
     "output_type": "execute_result"
    }
   ],
   "source": [
    "np.allclose(\n",
    "    Sigma_f_42,\n",
    "    Sigma_f[42]\n",
    ")"
   ]
  },
  {
   "cell_type": "markdown",
   "metadata": {},
   "source": [
    "### Assigning to signals dataframe columns"
   ]
  },
  {
   "cell_type": "code",
   "execution_count": 33,
   "metadata": {},
   "outputs": [
    {
     "data": {
      "text/plain": [
       "(123456, 2, 2)"
      ]
     },
     "execution_count": 33,
     "metadata": {},
     "output_type": "execute_result"
    }
   ],
   "source": [
    "Sigma_f.shape"
   ]
  },
  {
   "cell_type": "code",
   "execution_count": 34,
   "metadata": {},
   "outputs": [
    {
     "data": {
      "text/plain": [
       "((123456,),\n",
       " array([ 0.56131412,  0.360243  ,  0.12132119, ..., -0.00803077,\n",
       "         0.68500845,  0.01794193]))"
      ]
     },
     "execution_count": 34,
     "metadata": {},
     "output_type": "execute_result"
    }
   ],
   "source": [
    "velocity_otg_variance_x = Sigma_f[:,0,0]  # assign to signals['velocity_otg_variance_x']\n",
    "velocity_otg_variance_y = Sigma_f[:,1,1]  # assign to signals['velocity_otg_variance_y']\n",
    "velocity_otg_covariance = Sigma_f[:,0,1]  # assign to signals['velocity_otg_covariance']\n",
    "\n",
    "velocity_otg_variance_x.shape, velocity_otg_variance_x"
   ]
  },
  {
   "cell_type": "markdown",
   "metadata": {},
   "source": [
    "![](https://upload.wikimedia.org/wikipedia/commons/e/ea/Thats_all_folks.svg)"
   ]
  }
 ],
 "metadata": {
  "kernelspec": {
   "display_name": "Python 3.7.6 64-bit",
   "language": "python",
   "name": "python37664bit090b3e81119547f2b97d6d6fb9051ef2"
  },
  "language_info": {
   "codemirror_mode": {
    "name": "ipython",
    "version": 3
   },
   "file_extension": ".py",
   "mimetype": "text/x-python",
   "name": "python",
   "nbconvert_exporter": "python",
   "pygments_lexer": "ipython3",
   "version": "3.7.6"
  }
 },
 "nbformat": 4,
 "nbformat_minor": 4
}
