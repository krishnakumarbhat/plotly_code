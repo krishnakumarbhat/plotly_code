{
 "cells": [
  {
   "cell_type": "code",
   "execution_count": 41,
   "id": "c06dd79d",
   "metadata": {},
   "outputs": [],
   "source": [
    "import numpy as np\n",
    "import pandas as pd\n",
    "import matplotlib.pyplot as plt\n",
    "import ipywidgets as widgets\n",
    "from ipywidgets import interact, interact_manual\n",
    "\n",
    "#sys.path.extend(['C:\\\\Users\\\\zj2hns\\\\wkspaces\\\\ASPE0000_00_Common\\\\aspe_package', 'C:/Users/zj2hns/wkspaces/ASPE0000_00_Common/aspe_package'])\n",
    "\n",
    "from utils import calc_aspect_angle, calc_speed, calc_range, \\\n",
    "    filter_only_same_dir, filter_only_cars, filter_only_moving"
   ]
  },
  {
   "cell_type": "code",
   "execution_count": 33,
   "id": "ea85e222",
   "metadata": {},
   "outputs": [],
   "source": [
    "dets_p = r\"E:\\logfiles\\nexus_size_estimation_analysis\\overtaking_detections.csv\"\n",
    "auto_gt_p = r\"E:\\logfiles\\nexus_size_estimation_analysis\\overtaking_auto_gt.csv\"\n",
    "dets = pd.read_csv(dets_p, index_col=0)\n",
    "auto_gt = pd.read_csv(auto_gt_p, index_col=0)"
   ]
  },
  {
   "cell_type": "code",
   "execution_count": 34,
   "id": "b98d6848",
   "metadata": {},
   "outputs": [
    {
     "name": "stdout",
     "output_type": "stream",
     "text": [
      "   scan_index     timestamp  slot_id  sensor_id  position_x  position_y  \\\n",
      "0        9911  1.595825e+09      0.0          1   -4.491091   -6.360940   \n",
      "1        9911  1.595825e+09      1.0          1   -4.904781   -5.960566   \n",
      "2        9911  1.595825e+09      2.0          1   -4.332226   -7.448310   \n",
      "3        9911  1.595825e+09      3.0          1   -5.663832   -6.033289   \n",
      "4        9911  1.595825e+09      5.0          1   25.106241   -1.828816   \n",
      "\n",
      "   azimuth_vcs  range_rate  range_rate_comp   even_name  event_id  \\\n",
      "0    -2.216606   -4.656250       -13.705444  overtaking         0   \n",
      "1    -2.300187   -4.984375       -15.000218  overtaking         0   \n",
      "2    -2.115005   -4.156250       -11.945992  overtaking         0   \n",
      "3    -2.369966   -5.328125       -16.097702  overtaking         0   \n",
      "4    -0.038127    8.421875        23.405277  overtaking         0   \n",
      "\n",
      "   assoc_gt_unique_id  tcs_norm_pos_x  tcs_norm_pos_y  \n",
      "0                54.0        0.909714        0.622026  \n",
      "1                54.0        0.719863        1.036498  \n",
      "2                54.0        0.992437       -0.527612  \n",
      "3                54.0        0.380007        0.940478  \n",
      "4               100.0       -0.909104        0.757566  \n"
     ]
    }
   ],
   "source": [
    "print(dets.head(5))"
   ]
  },
  {
   "cell_type": "code",
   "execution_count": 37,
   "id": "56f14142",
   "metadata": {},
   "outputs": [
    {
     "name": "stdout",
     "output_type": "stream",
     "text": [
      "         scan_index     timestamp  slot_id  sensor_id  position_x  position_y  \\\n",
      "0              9911  1.595825e+09      0.0          1   -4.491091   -6.360940   \n",
      "1              9911  1.595825e+09      1.0          1   -4.904781   -5.960566   \n",
      "2              9911  1.595825e+09      2.0          1   -4.332226   -7.448310   \n",
      "3              9911  1.595825e+09      3.0          1   -5.663832   -6.033289   \n",
      "4              9911  1.595825e+09      5.0          1   25.106241   -1.828816   \n",
      "...             ...           ...      ...        ...         ...         ...   \n",
      "1234386       53497  1.595830e+09      7.0          1   29.531378   -2.785621   \n",
      "1234387       53497  1.595830e+09      8.0          1   31.367790   -4.079490   \n",
      "1234388       53497  1.595830e+09     37.0          2   29.466135   -1.900572   \n",
      "1234389       53497  1.595830e+09     38.0          2   30.751677   -1.911349   \n",
      "1234390       53497  1.595830e+09     39.0          2   32.256046   -3.844743   \n",
      "\n",
      "         azimuth_vcs  range_rate  range_rate_comp   even_name  event_id  \\\n",
      "0          -2.216606   -4.656250       -13.705444  overtaking         0   \n",
      "1          -2.300187   -4.984375       -15.000218  overtaking         0   \n",
      "2          -2.115005   -4.156250       -11.945992  overtaking         0   \n",
      "3          -2.369966   -5.328125       -16.097702  overtaking         0   \n",
      "4          -0.038127    8.421875        23.405277  overtaking         0   \n",
      "...              ...         ...              ...         ...       ...   \n",
      "1234386    -0.064433    2.140625        38.135315  overtaking         9   \n",
      "1234387    -0.101239    2.093750        37.979946  overtaking         9   \n",
      "1234388    -0.092275    2.078125        37.980095  overtaking         9   \n",
      "1234389    -0.088825    2.078125        37.991220  overtaking         9   \n",
      "1234390    -0.143267    2.046875        37.734720  overtaking         9   \n",
      "\n",
      "         assoc_gt_unique_id  tcs_norm_pos_x  tcs_norm_pos_y  auto_gt_df_index  \n",
      "0                      54.0        0.909714        0.622026              84.0  \n",
      "1                      54.0        0.719863        1.036498              84.0  \n",
      "2                      54.0        0.992437       -0.527612              84.0  \n",
      "3                      54.0        0.380007        0.940478              84.0  \n",
      "4                     100.0       -0.909104        0.757566             213.0  \n",
      "...                     ...             ...             ...               ...  \n",
      "1234386                33.0        0.093058        0.379220          409811.0  \n",
      "1234387                33.0        0.718081       -0.742428          409811.0  \n",
      "1234388                33.0        0.065354        1.167189          409811.0  \n",
      "1234389                33.0        0.497023        1.179952          409811.0  \n",
      "1234390                33.0        1.014760       -0.517672          409811.0  \n",
      "\n",
      "[705895 rows x 15 columns]\n"
     ]
    }
   ],
   "source": [
    "sub_auto_gt_df = auto_gt.loc[:, ['event_id', 'scan_index', 'unique_id']]\n",
    "sub_auto_gt_df.loc[:, 'auto_gt_df_index'] = sub_auto_gt_df.index.to_numpy()\n",
    "sub_auto_gt_df.set_index(['event_id', 'scan_index', 'unique_id'], inplace=True)\n",
    "\n",
    "dets_joined = dets.join(sub_auto_gt_df, on=['event_id', 'scan_index', 'assoc_gt_unique_id'])\n",
    "auto_gt = filter_only_cars(auto_gt)\n",
    "dets_joined = dets_joined.loc[dets_joined.auto_gt_df_index.isin(auto_gt.index), :]\n",
    "print(dets_joined)"
   ]
  },
  {
   "cell_type": "code",
   "execution_count": 39,
   "id": "e083fc09",
   "metadata": {},
   "outputs": [
    {
     "data": {
      "application/vnd.jupyter.widget-view+json": {
       "model_id": "958a2ebf12a34486b39bdae345b205c4",
       "version_major": 2,
       "version_minor": 0
      },
      "text/plain": [
       "interactive(children=(IntSlider(value=0, description='pos_x_center', max=80, min=-80), IntSlider(value=25, des…"
      ]
     },
     "metadata": {},
     "output_type": "display_data"
    }
   ],
   "source": [
    "@interact\n",
    "def plot_heatmap(pos_x_center=(-80, 80, 1), \n",
    "                 pos_x_width=(1, 50, 1),\n",
    "                 pos_y_center=(-10, 10, 1), \n",
    "                 pos_y_width=(1, 10, 1)):\n",
    "    \n",
    "    pos_x_min = pos_x_center - pos_x_width/2\n",
    "    pos_x_max = pos_x_center + pos_x_width/2\n",
    "    pos_y_min = pos_y_center - pos_y_width/2\n",
    "    pos_y_max = pos_y_center + pos_y_width/2\n",
    "    \n",
    "    gt = auto_gt.query(f'({pos_x_min} < center_x) & (center_x < {pos_x_max}) &'\n",
    "                   f'({pos_y_min} < center_y) & (center_y < {pos_y_max})')\n",
    "    \n",
    "    \n",
    "    df = dets_joined.loc[dets_joined.auto_gt_df_index.isin(gt.index), :]\n",
    "    \n",
    "    #df = dets.query(f'({pos_x_min} < position_x) & (position_x < {pos_x_max}) &'\n",
    "    #               f'({pos_y_min} < position_y) & (position_y < {pos_y_max})')\n",
    "    \n",
    "    auto_gt_df_indexes = df.loc[:, 'auto_gt_df_index'].unique()\n",
    "    \n",
    "    heat_map_x = df.loc[:, 'tcs_norm_pos_y'].to_numpy()\n",
    "    heat_map_y = df.loc[:, 'tcs_norm_pos_x'].to_numpy()\n",
    "    heatmap, xedges, yedges = np.histogram2d(heat_map_x, heat_map_y, bins=100, range=[[-2, 2], [-2, 2]])\n",
    "    extent = [xedges[0], xedges[-1], yedges[0], yedges[-1]]\n",
    "    \n",
    "    fig = plt.figure(figsize=(15, 10))\n",
    "    spec = fig.add_gridspec(2, 2)\n",
    "    ax0 = fig.add_subplot(spec[:, 0])\n",
    "    \n",
    "    ax0.imshow(heatmap.T, extent=extent, origin='lower')\n",
    "    ax0.set_xlim([-2, 2])\n",
    "    ax0.set_ylim([-2, 2])\n",
    "    \n",
    "    ax1 = fig.add_subplot(spec[0, 1])\n",
    "    df['tcs_norm_pos_x'].plot.hist(ax=ax1, bins=100, density=True)\n",
    "    ax1.set_ylim([0, 3])\n",
    "    ax1.set_xlim([-2.5, 2.5])\n",
    "    ax1.grid()\n",
    "    ax1.set_xlabel('tcs_norm_pos_x')\n",
    "    \n",
    "    ax2 = fig.add_subplot(spec[1, 1])\n",
    "    df['tcs_norm_pos_y'].plot.hist(ax=ax2, bins=100, density=True)\n",
    "    ax2.set_ylim([0, 3])\n",
    "    ax2.set_xlim([-2.5, 2.5])\n",
    "\n",
    "    ax2.grid()\n",
    "    ax2.set_xlabel('tcs_norm_pos_y')\n"
   ]
  },
  {
   "cell_type": "code",
   "execution_count": null,
   "id": "075b15e6",
   "metadata": {},
   "outputs": [],
   "source": []
  }
 ],
 "metadata": {
  "kernelspec": {
   "display_name": "Python 3 (ipykernel)",
   "language": "python",
   "name": "python3"
  },
  "language_info": {
   "codemirror_mode": {
    "name": "ipython",
    "version": 3
   },
   "file_extension": ".py",
   "mimetype": "text/x-python",
   "name": "python",
   "nbconvert_exporter": "python",
   "pygments_lexer": "ipython3",
   "version": "3.7.7"
  }
 },
 "nbformat": 4,
 "nbformat_minor": 5
}
